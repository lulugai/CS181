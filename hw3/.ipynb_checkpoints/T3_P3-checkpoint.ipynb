{
 "cells": [
  {
   "cell_type": "markdown",
   "metadata": {
    "id": "T7HLdN6RHIoB"
   },
   "source": [
    "## This notebook contains a **tutorial** followed by **Problem 3 of Homework 3**, both of which are based on PyTorch."
   ]
  },
  {
   "cell_type": "markdown",
   "metadata": {
    "id": "2biosIind-6h"
   },
   "source": [
    "### To complete this problem, please upload this .ipynb (Notebook) file **to Google Colab.** (You'll need to use Colab because it supports GPU and has all the necessary packages pre-installed.) When you're finished, go to \"File -> Download .ipynb\" and submit your .ipynb notebook as a supplemental file.\n",
    "\n",
    "### This notebook has instructions for several homework problems.  ***You must write your answers to these problems in your PDF submission file.*** Your Colab notebook will not be graded, so please make sure you transfer all deliverables (including plots and written work) to your PDF.  "
   ]
  },
  {
   "cell_type": "code",
   "execution_count": 1,
   "metadata": {
    "id": "LTOxErZWluNP"
   },
   "outputs": [],
   "source": [
    "import torch\n",
    "import numpy as np\n",
    "import math"
   ]
  },
  {
   "cell_type": "markdown",
   "metadata": {
    "id": "Op_QDEYGhCqL"
   },
   "source": [
    "So far in CS 181, we've been using numpy and scikit-learn to write ML code. In this tutorial, we'll introduce you to **PyTorch**, the ML library of choice for industry and academia.\n",
    "\n",
    "**Before working through this notebook, make sure that the runtime type is set to GPU.** Follow Edit -> Notebook settings -> and select GPU as the hardware accelerator."
   ]
  },
  {
   "cell_type": "markdown",
   "metadata": {
    "id": "K99RHUFel7yJ"
   },
   "source": [
    "# Tutorial: Getting to Know PyTorch - Key Concepts\n",
    "\n",
    "### Why PyTorch?\n",
    "\n",
    "PyTorch...\n",
    "*   Provides flexible building blocks for building customizable models, including neural network layers, activation functions, and optimization algorithms\n",
    "*   Can automatically compute gradients, making backpropagation a breeze!\n",
    "*   Can accelerate computation on GPUs"
   ]
  },
  {
   "cell_type": "markdown",
   "metadata": {
    "id": "1OqXiibkjd8b"
   },
   "source": [
    "## Tensors\n",
    "\n",
    "Tensors are the basic units of storage and computation in PyTorch. They are very similar to NumPy arrays, and follow the same syntax for indexing and for most arithmetic operations.\n"
   ]
  },
  {
   "cell_type": "code",
   "execution_count": 2,
   "metadata": {
    "colab": {
     "base_uri": "https://localhost:8080/"
    },
    "id": "VQ6v6uTCjcqm",
    "outputId": "d6072439-989c-44db-a57f-44f07f45a0de"
   },
   "outputs": [
    {
     "name": "stdout",
     "output_type": "stream",
     "text": [
      "tensor([1., 2., 3., 4., 5.]) torch.Size([5])\n"
     ]
    }
   ],
   "source": [
    "# Basic tensor operations\n",
    "x_tensor = torch.tensor([1, 2, 3, 4, 5])\n",
    "y_tensor = torch.ones((2, 5))\n",
    "prod = x_tensor * y_tensor[1,:]\n",
    "print(prod, prod.shape) # Use .shape to view shape just as in NumPy"
   ]
  },
  {
   "cell_type": "code",
   "execution_count": 3,
   "metadata": {
    "id": "t1POkPN7oHDl"
   },
   "outputs": [],
   "source": [
    "# Easy conversion between PyTorch and Numpy\n",
    "x_numpy = np.array([1, 2, 3, 4, 5])\n",
    "assert (x_tensor.numpy() == x_numpy).all()\n",
    "assert (x_tensor == torch.from_numpy(x_numpy)).all()"
   ]
  },
  {
   "cell_type": "markdown",
   "metadata": {
    "id": "s0ovXbiFmMA_"
   },
   "source": [
    "What makes tensors **different** from NumPy arrays is:\n",
    "\n",
    "1. They support GPU acceleration.\n",
    "2. They contain additional information (accessed as attributes, which we will see later) which facilitate the easy building and training of neural networks, via **computation graphs** and **gradients**."
   ]
  },
  {
   "cell_type": "markdown",
   "metadata": {
    "id": "At9t1bdM7vp_"
   },
   "source": [
    "## A motivating example\n",
    "\n",
    "To see the advantages of PyTorch in action, let's first take a look at how one might train a simple model using only NumPy:"
   ]
  },
  {
   "cell_type": "code",
   "execution_count": 4,
   "metadata": {
    "colab": {
     "base_uri": "https://localhost:8080/"
    },
    "id": "jJo7qe3_77c_",
    "outputId": "acf732c8-36e5-4fe4-87d1-df0e29179d96"
   },
   "outputs": [
    {
     "name": "stdout",
     "output_type": "stream",
     "text": [
      "Epoch 0: loss 38197.81515432202\n",
      "Epoch 100: loss 3517.7907355090983\n",
      "Epoch 200: loss 2329.262097642595\n",
      "Epoch 300: loss 1543.3078602788773\n",
      "Epoch 400: loss 1023.5673543633861\n",
      "Epoch 500: loss 679.868962253423\n",
      "Epoch 600: loss 452.5842731446352\n",
      "Epoch 700: loss 302.2822840871558\n",
      "Epoch 800: loss 202.88803137056945\n",
      "Epoch 900: loss 137.1585878687959\n",
      "Epoch 1000: loss 93.69146197014607\n",
      "Epoch 1100: loss 64.9463276683509\n",
      "Epoch 1200: loss 45.93684150742256\n",
      "Epoch 1300: loss 33.365569734477646\n",
      "Epoch 1400: loss 25.051932870285285\n",
      "Epoch 1500: loss 19.553915673335602\n",
      "Epoch 1600: loss 15.917909859408844\n",
      "Epoch 1700: loss 13.513288414284816\n",
      "Epoch 1800: loss 11.923011364250858\n",
      "Epoch 1900: loss 10.871284250780764\n",
      "Result: y = -0.0021372055959233737 + 0.820890699482016 x + 0.0003687035285514003 x^2 + -0.08823101830046683 x^3\n"
     ]
    }
   ],
   "source": [
    "import numpy as np\n",
    "import math\n",
    "\n",
    "# Create 2000 random input and output data points\n",
    "x = np.linspace(-math.pi, math.pi, 2000)\n",
    "y = np.sin(x)\n",
    "\n",
    "# Step 0 - Initialization: Initialize model parameters (randomly, in this example)\n",
    "a = np.random.randn()\n",
    "b = np.random.randn()\n",
    "c = np.random.randn()\n",
    "d = np.random.randn()\n",
    "\n",
    "learning_rate = 1e-6\n",
    "for t in range(2000):\n",
    "    # Step 1 - Forward Pass: compute predicted y according to the following model:\n",
    "    # y = a + b x + c x^2 + d x^3\n",
    "    y_pred = a + b * x + c * x ** 2 + d * x ** 3\n",
    "\n",
    "    # Step 2 - Compute Loss (MSE in this example)\n",
    "    loss = np.square(y_pred - y).sum() # Sum across 2000 training points\n",
    "    if t % 100 == 0:\n",
    "        print(f'Epoch {t}: loss {loss}')\n",
    "\n",
    "    # Step 3 - Differentiate: Use backprop (chain rule) to compute gradients\n",
    "    # of the loss function with respect to a, b, c, d\n",
    "    grad_y_pred = 2.0 * (y_pred - y)\n",
    "    grad_a = grad_y_pred.sum() # Sum across 2000 training points\n",
    "    grad_b = (grad_y_pred * x).sum()\n",
    "    grad_c = (grad_y_pred * x ** 2).sum()\n",
    "    grad_d = (grad_y_pred * x ** 3).sum()\n",
    "\n",
    "    # Step 4 - Optimize: Update weights (vanilla GD in this example)\n",
    "    a -= learning_rate * grad_a\n",
    "    b -= learning_rate * grad_b\n",
    "    c -= learning_rate * grad_c\n",
    "    d -= learning_rate * grad_d\n",
    "\n",
    "print(f'Result: y = {a} + {b} x + {c} x^2 + {d} x^3')\n",
    "\n",
    "# From: https://pytorch.org/tutorials/beginner/pytorch_with_examples.html"
   ]
  },
  {
   "cell_type": "markdown",
   "metadata": {
    "id": "BIfNG71OG9Jq"
   },
   "source": [
    "Each step involved in training a model is coded very explicitly in this example:\n",
    "0. Initialization: Initialize model parameters (i.e. weights)\n",
    "1. Forward Pass: Compute predictions\n",
    "2. Compute Loss\n",
    "3. Differentiate: Compute gradients via backpropagation (chain rule)\n",
    "4. Optimize: Update weights using gradients\n",
    "\n",
    "Notice how:\n",
    "- Every model parameter is stored as a variable, which contains a weight value to be continuously updated through training\n",
    "- The calculation of the gradient of the loss function with respect to the model parameters is coded explicitly and thus *model dependent*\n",
    "<!-- - The gradient of the loss function needs to be computed with respect to the model parameters explicitly using the chain rule -->\n",
    "- Each model parameter's gradient is used to update the weight value according to a particular update rule which is also explicitly implemented - in this example, standard gradient descent (GD).\n",
    "\n",
    "Steps 0 and 1 might not be so difficult using a basic package such as NumPy; however, one could imagine that steps 2 and 3 would quickly become too burdensome to implement manually for models with more parameters, both because of 1) the large number of parameters and 2) the fact that the explicit implementation of the chain rule and update rule will look different every time depending on the the model structure and optimization algorithm.\n",
    "\n",
    "This is where PyTorch's **automatic differentiation** engine, **Autograd**, is useful. As the name implies, PyTorch can take care of computing gradients and applying optimization update rules automatically under the hood, such that the code we write to invoke these two operaations will look (very nearly) the same across all models."
   ]
  },
  {
   "cell_type": "markdown",
   "metadata": {
    "id": "IcRm_01MryEd"
   },
   "source": [
    "## Computation Graphs and Autograd\n",
    "\n",
    "<!-- Old paragraphs, commented out to preserve in case we want to bring back language -->\n",
    "<!-- Autograd, PyTorch's automatic differentiation engine, is one of the best things that PyTorch has to offer when it comes to training neural networks! Recall that in order to compute gradients for weights in a neural network, you have to backpropagate errors at each node. This is computationally intensive even for a one or two layers and would be a nightmare to implement manually for very deep networks. -->\n",
    "<!-- PyTorch tensors can keep track of a *computation graph* whenever operations are performed on/between tensors. Autograd performs backprop on this computation graph, so all the steps to compute the gradient are abstracted away. To perform a gradient step update, you simply have to call built-in PyTorch functions that computes the derivative of the loss and (if you're using gradient descent) takes a step toward a gradient of zero. -->\n",
    "\n",
    "To implement automatic differentiation, PyTorch keeps track of a **computation graph** which logs every operation used to construct a certain output or mathematical expression (more on computation graphs in the [Appendix](#Appendix)). Computation graphs are created automatically whenever mathematical operations are performed using tensors as inputs. Using this graph, **Autograd** can perform backpropagation by repeated applications of the chain rule, and all of these differentiation steps are abstracted away from the user. To perform weight updates, we simply call built-in PyTorch optimizer functions which implement different update rules using the gradients computed during backpropagation.\n",
    "\n",
    "As we work through the following example, keep in mind that computation graphs in PyTorch are *implicitly* constructed when one builds mathematical expressions. That is, one will never have to write code expressly for the purpose of building such a graph; rather, the computation graph will be assembled automatically using whichever Tensors or operations are appropriately \"earmarked\" for tracking (see `requires_grad` below).\n",
    "\n",
    "Let's start with a simple example of autograd. (Original example from https://pytorch.org/tutorials/beginner/nlp/pytorch_tutorial.html.)\n"
   ]
  },
  {
   "cell_type": "code",
   "execution_count": 5,
   "metadata": {
    "colab": {
     "base_uri": "https://localhost:8080/"
    },
    "id": "-oQ3VCa-wEnL",
    "outputId": "7ec9b402-8075-4787-8813-6f3caa73d9c1"
   },
   "outputs": [
    {
     "name": "stdout",
     "output_type": "stream",
     "text": [
      "x: tensor([[-0.6451, -0.3725],\n",
      "        [ 0.1204,  0.3251]])\n",
      "y: tensor([[2.0769, 1.5242],\n",
      "        [0.3249, 0.3665]])\n"
     ]
    }
   ],
   "source": [
    "# Create tensors\n",
    "x = torch.randn(2, 2)\n",
    "y = torch.randn(2, 2)\n",
    "print('x:', x)\n",
    "print('y:', y)"
   ]
  },
  {
   "cell_type": "markdown",
   "metadata": {
    "id": "xoGuhefUwfz4"
   },
   "source": [
    "Tensors have a ```requires_grad``` field. When ```requires_grad == True``` for a certain tensor, any subsequent operations that this tensor is an input to will be incorporated into a computation graph. Autograd will then be able to automatically compute partial derivatives *with respect to this tensor*. (Derivative of what function? More on that [later](#step5).) \n",
    "\n",
    "For any tensors which are the outputs of operations tracked in the computation graph, the ```grad_fn``` attribute will indicate the operation that created the tensor, represented as a `Function` object. (It is these `Function`s which encode the computation graph DAG [Directed Acyclic Graph].)\n",
    "\n",
    "**Important: If some starting tensors have requires_grad = True, then every tensor resulting from operations of those starting tensors will also have requires_grad = True.**\n",
    "\n"
   ]
  },
  {
   "cell_type": "code",
   "execution_count": 6,
   "metadata": {
    "colab": {
     "base_uri": "https://localhost:8080/"
    },
    "id": "tNy9_NsXwXPp",
    "outputId": "d858cd78-2ed9-46c5-c258-608f1182a675"
   },
   "outputs": [
    {
     "name": "stdout",
     "output_type": "stream",
     "text": [
      "x and y requires_grad: False False\n",
      "z grad_fn: None\n"
     ]
    }
   ],
   "source": [
    "# By default, user created Tensors have ``requires_grad=False``\n",
    "print('x and y requires_grad:', x.requires_grad, y.requires_grad)\n",
    "z = x + y\n",
    "# So you can't backprop through z\n",
    "print('z grad_fn:', z.grad_fn)"
   ]
  },
  {
   "cell_type": "code",
   "execution_count": 7,
   "metadata": {
    "colab": {
     "base_uri": "https://localhost:8080/"
    },
    "id": "Xnb3o2ayxFyX",
    "outputId": "96b31438-1758-45c7-c1b0-cdf619419b2c"
   },
   "outputs": [
    {
     "name": "stdout",
     "output_type": "stream",
     "text": [
      "z grad_fn: <AddBackward0 object at 0x0000017650ADFB48>\n",
      "z requires_grad: True\n"
     ]
    }
   ],
   "source": [
    "# ``.requires_grad_( ... )`` changes an existing Tensor's ``requires_grad`` flag in-place.\n",
    "# The input flag defaults to ``True`` if not given.\n",
    "x = x.requires_grad_()\n",
    "y = y.requires_grad_()\n",
    "# z contains enough information to compute gradients, as we saw above\n",
    "z = x + y\n",
    "print('z grad_fn:', z.grad_fn)\n",
    "# If any input to an operation has ``requires_grad=True``, so will the output\n",
    "print('z requires_grad:', z.requires_grad)"
   ]
  },
  {
   "cell_type": "markdown",
   "metadata": {
    "id": "jjqGhfJ8yZJs"
   },
   "source": [
    "We can also detach a tensor from its computation graph:"
   ]
  },
  {
   "cell_type": "code",
   "execution_count": 8,
   "metadata": {
    "colab": {
     "base_uri": "https://localhost:8080/"
    },
    "id": "C0bYoOKBwKm0",
    "outputId": "f106444b-538b-40ff-fdcf-409d1c273da7"
   },
   "outputs": [
    {
     "name": "stdout",
     "output_type": "stream",
     "text": [
      "new_z grad_fn: None\n"
     ]
    }
   ],
   "source": [
    "# Now z has the computation history that relates itself to x and y\n",
    "# Can we just take its values, and **detach** it from its history?\n",
    "new_z = z.detach()\n",
    "\n",
    "# ... does new_z have information to backprop to x and y?\n",
    "# NO!\n",
    "print('new_z grad_fn:', new_z.grad_fn)\n",
    "# And how could it? ``z.detach()`` returns a tensor that shares the same storage as ``z``, but with the computation history forgotten.\n",
    "# It doesn't know anything about how it was computed.\n",
    "# In essence, we have broken the Tensor away from its past history"
   ]
  },
  {
   "cell_type": "markdown",
   "metadata": {
    "id": "Xe2dUCuuTpo5"
   },
   "source": [
    "Now that we've been introduced to `requires_grad`, `grad_fn` and the computation graph....\n",
    "\n",
    "#### Question: Where should I actually set requires_grad to make everything work?\n",
    "#### Short Answer: In any tensors which represent model parameters or weights.\n",
    "\n",
    "Long Answer:\n",
    "\n",
    "- If you are initializing a parameter(s)/weight(s) by creating an individual tensor(s) manually, you have to set its `requires_grad = True` argument. \n",
    "- If you are initializing a parameter(s)/weight(s) by using built-in PyTorch methods from packages such as nn.Layer and nn.Parameter, the internally initialized tensors should already have `requires_grad` set to `True`.\n"
   ]
  },
  {
   "cell_type": "markdown",
   "metadata": {
    "id": "zIFDbUwUrvCK"
   },
   "source": [
    "## GPU Acceleration\n",
    "\n",
    "GPUs are built for parallel processing — they can handle thousands of operations at the same time — which makes them great for computationally-intensive neural nets."
   ]
  },
  {
   "cell_type": "code",
   "execution_count": 9,
   "metadata": {
    "id": "7QdobpsapbDV"
   },
   "outputs": [],
   "source": [
    "# To run tensor operations on GPU in Colab, go to Edit -> Notebook settings -> and select GPU as the hardware accelerator.\n",
    "# If GPU is enabled, the following assertion should pass.\n",
    "assert torch.cuda.is_available()"
   ]
  },
  {
   "cell_type": "code",
   "execution_count": 10,
   "metadata": {
    "colab": {
     "base_uri": "https://localhost:8080/"
    },
    "id": "djVoc6o0pqIn",
    "outputId": "2d3b6b38-2ca6-4e5f-b33d-0cf128936a67"
   },
   "outputs": [
    {
     "data": {
      "text/plain": [
       "tensor([[0.6440, 0.0612, 0.4612, 0.3206, 0.2942],\n",
       "        [0.1865, 0.2078, 0.5743, 0.0836, 0.0131],\n",
       "        [0.1862, 0.2234, 0.0853, 0.2511, 0.4083],\n",
       "        [0.0151, 0.1255, 0.2935, 0.2964, 0.4558],\n",
       "        [0.0163, 0.5568, 0.1255, 0.2613, 0.1355]], device='cuda:0')"
      ]
     },
     "execution_count": 10,
     "metadata": {},
     "output_type": "execute_result"
    }
   ],
   "source": [
    "# When creating a tensor, set its device to use CUDA (a GPU parallel computing platform), as shown below.\n",
    "# What this means is that we are telling PyTorch to physically initialize the relevant \n",
    "# variable in GPU memory.\n",
    "device = torch.device('cuda:0' if torch.cuda.is_available() else 'cpu')\n",
    "x = torch.rand(5, 5, device=device)\n",
    "y = torch.rand(5, 5, device=device)\n",
    "x * y"
   ]
  },
  {
   "cell_type": "markdown",
   "metadata": {
    "id": "bTYacvPiDex5"
   },
   "source": [
    "## Defining a Model\n",
    "\n",
    "* The ```nn``` package defines basic neural network layers (or Modules, in PyTorch-speak) as well as common loss functions. Modules take a tensor as input, apply some computation/function to it, and then output the new tensor. \n",
    "\n",
    "* The ```optim``` package defines common optimization algorithms such as Adam, RMSProp, and AdaGrad. These algorithms are all variations of stochastic (randomized) gradient descent, and they may differ in terms of how the gradient steps are taken and how the learning rate adapts over epochs. (More details here: https://pytorch.org/docs/stable/optim.html.)\n",
    "\n",
    "### Example: Cubic Model\n",
    "Let's say we want to predict y's modeled as ```ax + bx^2 + cx^3```, and our goal is to learn the weights ```a```, ```b```, and ```c```. (Original example from https://pytorch.org/tutorials/beginner/pytorch_with_examples.html#id21.) "
   ]
  },
  {
   "cell_type": "markdown",
   "metadata": {
    "id": "ms74sAOfKw1x"
   },
   "source": [
    "### Step 1: Generate Data"
   ]
  },
  {
   "cell_type": "code",
   "execution_count": 11,
   "metadata": {
    "colab": {
     "base_uri": "https://localhost:8080/"
    },
    "id": "Nb9Qvif0KOmh",
    "outputId": "33fd2a33-beac-4bb6-cfdb-ecf0e792feed"
   },
   "outputs": [
    {
     "name": "stdout",
     "output_type": "stream",
     "text": [
      "torch.Size([2000, 3])\n"
     ]
    }
   ],
   "source": [
    "# Create Tensors to hold input and outputs.\n",
    "x = torch.linspace(-math.pi, math.pi, 2000)\n",
    "y = torch.sin(x)\n",
    "\n",
    "# Prepare the input tensor (x, x^2, x^3).\n",
    "p = torch.tensor([1, 2, 3])\n",
    "xx = x.unsqueeze(-1).pow(p) \n",
    "print(xx.shape)\n",
    "# Unsqueeze inserts a dimension of size one at the specified location; the tensor\n",
    "# is reshaped to (2000, 1). Since p is a tensor, pow is applied according to\n",
    "# broadcasting rules; xx has a final shape of (2000, 3). See documentation for \n",
    "# more on broadcasting; PyTorch supports NumPy broadcasting semantics."
   ]
  },
  {
   "cell_type": "markdown",
   "metadata": {
    "id": "lZrswir2K0fp"
   },
   "source": [
    "<a name=\"step2\"></a>\n",
    "\n",
    "### Step 2: Define Model (using nn package)"
   ]
  },
  {
   "cell_type": "code",
   "execution_count": 12,
   "metadata": {
    "id": "soqgPNLtK5mG"
   },
   "outputs": [],
   "source": [
    "# Use the nn package to define our model as a sequence of layers.\n",
    "# nn.Sequential is a Module which contains other Modules, and applies them in sequence to produce its output.\n",
    "# nn.Linear computes the 3 input features (x, x^2, and x^3) into 1 output feature using a linear function,\n",
    "# holding internal tensors for its weight and bias.\n",
    "# nn.Flatten flattens the output of the linear layer to a 1D tensor to match the shape of y.\n",
    "# In this case, the first dim it flattens is at index 0, and the last dim it flattens is at index 1.\n",
    "\n",
    "model = torch.nn.Sequential(\n",
    "    torch.nn.Linear(3, 1),\n",
    "    torch.nn.Flatten(0, 1)\n",
    ")"
   ]
  },
  {
   "cell_type": "markdown",
   "metadata": {
    "id": "LE6UFoGcMrbE"
   },
   "source": [
    "### Step 3: Define Loss Function (using nn package)"
   ]
  },
  {
   "cell_type": "code",
   "execution_count": 13,
   "metadata": {
    "id": "AwHrUXgPMqfY"
   },
   "outputs": [],
   "source": [
    "# In this case, we will use Mean Squared Error. \n",
    "# You can either implement loss functions manually, or\n",
    "# you can use PyTorch's implementations of commonly-used loss functions.\n",
    "loss_fn = torch.nn.MSELoss(reduction='sum')"
   ]
  },
  {
   "cell_type": "markdown",
   "metadata": {
    "id": "KAEuLYyAM1UD"
   },
   "source": [
    "### Step 4: Define Optimizer (using optim package)\n",
    "\n",
    "Use the optim package to define an Optimizer that will update the weights of the model for us. Here we will use RMSprop; the optim package contains many other optimization algorithms. The first argument to the RMSprop constructor tells the optimizer which Tensors it should update.\n",
    "\n",
    "In general, what distinguishes different optimizers is the way that they use gradients to define an update rule or scheme for their model weights. It follows then that any optimizer will always need the weights to be updated, and their corresponding gradients. In PyTorch, both of these quantities are stored together under model parameter variables. In particular, if `var` is a model weight, `var.grad` will contain a gradient with respect to `var` after backpropagation is performed. More in the next code cell."
   ]
  },
  {
   "cell_type": "code",
   "execution_count": 14,
   "metadata": {
    "id": "MdSCSU5nM4bG"
   },
   "outputs": [],
   "source": [
    "learning_rate = 1e-3\n",
    "optimizer = torch.optim.RMSprop(model.parameters(), lr=learning_rate)"
   ]
  },
  {
   "cell_type": "markdown",
   "metadata": {
    "id": "bwyFsv2nM-5K"
   },
   "source": [
    "<a name=\"step5\"></a>\n",
    "\n",
    "### Step 5: Train the Model\n",
    "\n",
    "Every time you train a model, be sure to include these 3 short but important lines that do much of the heavy lifting for you!\n",
    "\n",
    "1.   `optimizer.zero_grad()`: Zeroes out gradients from previous iterations. Otherwise, over the epochs, gradients will accumulate (sum) in `parameter.grad` of each `parameter` which was passed to the optimizer as an argument.\n",
    "2.   `loss.backward()`: Does all the backpropagation in one fell swoop (takes the derivative of the loss). We call `.backward()` on the loss tensor, which has the effect of taking the partial derivative of the loss with respect to the model parameters. For a model parameter (weight) `w`, dloss/dw will be stored in `w.grad` after `loss.backward()`.\n",
    "3. `optimizer.step()`: Based on the previously specified optimizer algorithm and learning rate, updates the parameters in the direction of the gradient. This represents one iteration of the weight update rule.\n",
    "\n",
    "\n"
   ]
  },
  {
   "cell_type": "code",
   "execution_count": 17,
   "metadata": {
    "colab": {
     "base_uri": "https://localhost:8080/"
    },
    "id": "IOOcYAkcNAgu",
    "outputId": "8abc5209-3305-473e-e8c3-2d6ce8a08ee0"
   },
   "outputs": [
    {
     "name": "stdout",
     "output_type": "stream",
     "text": [
      "99 8.908818244934082\n",
      "parameter 0 gradient tensor([[4.6021e+01, 2.7492e-01, 3.1735e+02]]) torch.Size([1, 3])\n",
      "parameter 1 gradient tensor([0.0518]) torch.Size([1])\n",
      "199 8.995990753173828\n",
      "parameter 0 gradient tensor([[ 45.6334, 116.7508, 314.6219]]) torch.Size([1, 3])\n",
      "parameter 1 gradient tensor([21.9703]) torch.Size([1])\n",
      "299 8.926716804504395\n",
      "parameter 0 gradient tensor([[ 45.4778,  55.5506, 313.5279]]) torch.Size([1, 3])\n",
      "parameter 1 gradient tensor([10.4536]) torch.Size([1])\n",
      "399 8.939159393310547\n",
      "parameter 0 gradient tensor([[ 45.6308,  70.0399, 314.5721]]) torch.Size([1, 3])\n",
      "parameter 1 gradient tensor([13.1802]) torch.Size([1])\n",
      "499 8.925814628601074\n",
      "parameter 0 gradient tensor([[ 45.6837,  53.1371, 314.9356]]) torch.Size([1, 3])\n",
      "parameter 1 gradient tensor([9.9994]) torch.Size([1])\n",
      "599 8.917016983032227\n",
      "parameter 0 gradient tensor([[ 45.6241,  38.8402, 314.5236]]) torch.Size([1, 3])\n",
      "parameter 1 gradient tensor([7.3090]) torch.Size([1])\n",
      "699 8.91828727722168\n",
      "parameter 0 gradient tensor([[ 45.6105,  41.3752, 314.4284]]) torch.Size([1, 3])\n",
      "parameter 1 gradient tensor([7.7861]) torch.Size([1])\n",
      "799 8.92216968536377\n",
      "parameter 0 gradient tensor([[ 45.6312,  47.9117, 314.5732]]) torch.Size([1, 3])\n",
      "parameter 1 gradient tensor([9.0160]) torch.Size([1])\n",
      "899 8.921632766723633\n",
      "parameter 0 gradient tensor([[ 45.6332,  47.0311, 314.5861]]) torch.Size([1, 3])\n",
      "parameter 1 gradient tensor([8.8504]) torch.Size([1])\n",
      "999 8.9202241897583\n",
      "parameter 0 gradient tensor([[ 45.6297,  44.6944, 314.5614]]) torch.Size([1, 3])\n",
      "parameter 1 gradient tensor([8.4107]) torch.Size([1])\n",
      "1099 8.920494079589844\n",
      "parameter 0 gradient tensor([[ 45.6309,  45.1474, 314.5696]]) torch.Size([1, 3])\n",
      "parameter 1 gradient tensor([8.4959]) torch.Size([1])\n",
      "1199 8.920992851257324\n",
      "parameter 0 gradient tensor([[ 45.6303,  45.9946, 314.5652]]) torch.Size([1, 3])\n",
      "parameter 1 gradient tensor([8.6553]) torch.Size([1])\n",
      "1299 8.920846939086914\n",
      "parameter 0 gradient tensor([[ 45.6254,  45.7813, 314.5319]]) torch.Size([1, 3])\n",
      "parameter 1 gradient tensor([8.6152]) torch.Size([1])\n",
      "1399 8.920677185058594\n",
      "parameter 0 gradient tensor([[ 45.6266,  45.4864, 314.5405]]) torch.Size([1, 3])\n",
      "parameter 1 gradient tensor([8.5597]) torch.Size([1])\n",
      "1499 8.920737266540527\n",
      "parameter 0 gradient tensor([[ 45.6278,  45.5806, 314.5484]]) torch.Size([1, 3])\n",
      "parameter 1 gradient tensor([8.5774]) torch.Size([1])\n",
      "1599 8.920795440673828\n",
      "parameter 0 gradient tensor([[ 45.6278,  45.6788, 314.5484]]) torch.Size([1, 3])\n",
      "parameter 1 gradient tensor([8.5959]) torch.Size([1])\n",
      "1699 8.920771598815918\n",
      "parameter 0 gradient tensor([[ 45.6278,  45.6391, 314.5482]]) torch.Size([1, 3])\n",
      "parameter 1 gradient tensor([8.5884]) torch.Size([1])\n",
      "1799 8.920754432678223\n",
      "parameter 0 gradient tensor([[ 45.6278,  45.6087, 314.5486]]) torch.Size([1, 3])\n",
      "parameter 1 gradient tensor([8.5827]) torch.Size([1])\n",
      "1899 8.920763969421387\n",
      "parameter 0 gradient tensor([[ 45.6278,  45.6239, 314.5486]]) torch.Size([1, 3])\n",
      "parameter 1 gradient tensor([8.5856]) torch.Size([1])\n",
      "1999 8.92076301574707\n",
      "parameter 0 gradient tensor([[ 45.6278,  45.6242, 314.5486]]) torch.Size([1, 3])\n",
      "parameter 1 gradient tensor([8.5856]) torch.Size([1])\n",
      "Result: y = -0.0004999584634788334 + 0.8562408089637756 x + -0.0004999624215997756 x^2 + -0.09383038431406021 x^3\n"
     ]
    }
   ],
   "source": [
    "num_epochs = 2000\n",
    "for epoch in range(num_epochs):\n",
    "\n",
    "    # Forward pass: compute predicted y by passing x to the model.\n",
    "    y_pred = model(xx)\n",
    "\n",
    "    # Compute and print loss.\n",
    "    loss = loss_fn(y_pred, y)\n",
    "    if epoch % 100 == 99:\n",
    "        print(epoch, loss.item())\n",
    "\n",
    "    # Before the backward pass, zero all the gradients for the variables it will update\n",
    "    # (these are the learnable weights of the model). This is because by defaults, \n",
    "    # gradients from previous iterations won't be overwritten. \n",
    "    optimizer.zero_grad()\n",
    "\n",
    "    # Backward pass: compute gradient of the loss with respect to model parameters\n",
    "    loss.backward()\n",
    "    # After taking the backward pass, you can see the computed gradient for each parameter\n",
    "    if epoch % 100 == 99:\n",
    "      # The model implicitly stores the parameters, as shown below:\n",
    "      for i, param in enumerate(model.parameters()):\n",
    "        # param.grad refers to d_loss/d_parameter\n",
    "        print('parameter', i, 'gradient', param.grad, param.grad.shape)\n",
    "\n",
    "    # Calling the step function on an Optimizer makes an update to its parameters\n",
    "    optimizer.step()\n",
    "\n",
    "linear_layer = model[0]\n",
    "print(f'Result: y = {linear_layer.bias.item()} + {linear_layer.weight[:, 0].item()} x + {linear_layer.weight[:, 1].item()} x^2 + {linear_layer.weight[:, 2].item()} x^3')"
   ]
  },
  {
   "cell_type": "markdown",
   "metadata": {
    "id": "Z3uuSWYTSLvz"
   },
   "source": [
    "# **Problem 3, Part 1: PyTorch Concept Questions**\n",
    "\n",
    "*Write up your answers to these problems in your PDF submission.  Any work included in your Colab notebook will not be graded.*\n",
    "\n",
    "These questions are intended to be a straightforward check on some fundamental PyTorch concepts. You are encouraged to use the PyTorch documentation and any other online resources to answer these questions.  Please write no more than 3 sentences to answer each of the below questions.\n",
    "\n",
    "# Problem 3.1\n",
    "Where are gradients stored in PyTorch and how can they be accessed?\n",
    "\n",
    "linear_layer.bias.item() linear_layer.weights.item()\n",
    "# Problem 3.2\n",
    "In the model defined in [Step 2](#step2) in the tutorial section, how many weights does the model have, and which layer do they come from?\n",
    "\n",
    "[3,1]\n",
    "# Problem 3.3\n",
    "Conceptually, what is a fully-connected layer in a neural network, and how is it represented in PyTorch?\n"
   ]
  },
  {
   "cell_type": "markdown",
   "metadata": {
    "id": "9jt4jB6bKNcH"
   },
   "source": [
    "# **Problem 3, Part 2: Training a Neural Network on CIFAR-10**"
   ]
  },
  {
   "cell_type": "markdown",
   "metadata": {
    "id": "lOftgxoIsiZl"
   },
   "source": [
    "In this part, you will train two neural networks to perform multi-class classifications on the [CIFAR-10 dataset](https://www.cs.toronto.edu/~kriz/cifar.html). This dataset consists of 32x32 images belonging to 10 classes. In particular:\n",
    "\n",
    "\n",
    "\n",
    "# Problem 3.4\n",
    "**Initialize:** Complete the Part2NeuralNetwork class with 3 fully connected (linear) layers using ReLU activation functions, and with the hidden layers having 1000 nodes each.\n",
    "\n",
    "Here, we ask you to define a model class which inherits from `nn.Module` rather than using `nn.Sequential` as we saw before in [Step 2](#step2). This is done by initializing weights in `__init__()` and manually implementing the forward pass in `forward()`. Feel free to reference documentation.\n",
    "\n",
    "Please copy and paste your neural network class into your PDF writeup.  We recommend using a LaTeX library such as [listings](https://ctan.org/pkg/listings?lang=en) to ensure your code renders correctly.\n",
    "\n",
    "*Include in your submission: Your neural network class code.*\n",
    "\n",
    "# Problem 3.5\n",
    "\n",
    "**Train:** Complete the training code for the model. Use [cross-entropy loss](https://pytorch.org/docs/stable/generated/torch.nn.CrossEntropyLoss.html) and an optimizer of your choice.\n",
    "\n",
    "Train your model for 10 epochs. Every epoch, log the train and test set loss.  Create a plot that displays both the model's train and the test set loss across epochs.\n",
    "\n",
    "*Include in your submission: 1 plot which has both the train and test loss vs. number of epochs.*\n",
    "\n",
    "# Problem 3.6\n",
    "\n",
    "**Evaluate:** To evaluate your model, compute the following metrics on the train and test set, including them in your write-up.  For each of the following metrics, use the model's \"hard assignment\" of labels, i.e. your model's predictions should assign each data point to only 1 class:\n",
    "\n",
    "* The model's classification accuracy\n",
    "* The model's [precision and recall](https://en.wikipedia.org/wiki/Precision_and_recall) for each of the 10 classes\n",
    "\n",
    "What kinds of errors do you believe that the trained model is making?  Use evidence (such as the above metrics, example misclassified images, or any other metrics of your choice) to support your claims.\n",
    "\n",
    "*Include in your submission: train/test accuracy, train/test precision/recall for 10 classes, and evidence to support your hypothesis about the model's errors.*\n",
    "\n",
    "# Problem 3.7\n",
    "\n",
    "**Explore:** Create a new neural network with at least 1 architectural modification.   Some things you can explore are adding or removing layers, changing the number of nodes at each layer, or experimenting with convolutional and pooling layers (see Appendix). The only requirement is that your model attain at least 50% test set accuracy after training for 10 epochs.  This part of the problem is intentionally open-ended, and we encourage you to explore!\n",
    "\n",
    "For your new neural network, include a plot of train and test set loss in your writeup.  Calculate your model's train/test accuracy and precision/recall for the 10 classes.\n",
    "\n",
    "In your writeup, copy and paste your modified neural network class and describe the architectural changes you made.  Write at least 1 sentence about why you hypothesize your new neural network performed better or performed worse than the network in Part 3.4.\n",
    "\n",
    "*Include in your submission: Your neural network class code, 1 plot of train/test loss, metrics from Part 3.6 for this new neural net, and explanation of performance.*\n"
   ]
  },
  {
   "cell_type": "code",
   "execution_count": 19,
   "metadata": {
    "id": "ND3B7K0TKPyJ"
   },
   "outputs": [
    {
     "ename": "KeyboardInterrupt",
     "evalue": "",
     "output_type": "error",
     "traceback": [
      "\u001b[1;31m---------------------------------------------------------------------------\u001b[0m",
      "\u001b[1;31mKeyboardInterrupt\u001b[0m                         Traceback (most recent call last)",
      "\u001b[1;32m<ipython-input-19-909bdb43563b>\u001b[0m in \u001b[0;36m<module>\u001b[1;34m\u001b[0m\n\u001b[0;32m     10\u001b[0m \u001b[1;33m\u001b[0m\u001b[0m\n\u001b[0;32m     11\u001b[0m trainset = torchvision.datasets.CIFAR10(root='./part_2_data', train=True,\n\u001b[1;32m---> 12\u001b[1;33m                                         download=True, transform=transform)\n\u001b[0m\u001b[0;32m     13\u001b[0m trainloader = torch.utils.data.DataLoader(trainset, batch_size=32,\n\u001b[0;32m     14\u001b[0m                                           shuffle=True, num_workers=2)\n",
      "\u001b[1;32mC:\\ProgramData\\Anaconda3\\Lib\\site-packages\\torchvision\\datasets\\cifar.py\u001b[0m in \u001b[0;36m__init__\u001b[1;34m(self, root, train, transform, target_transform, download)\u001b[0m\n\u001b[0;32m     63\u001b[0m \u001b[1;33m\u001b[0m\u001b[0m\n\u001b[0;32m     64\u001b[0m         \u001b[1;32mif\u001b[0m \u001b[0mdownload\u001b[0m\u001b[1;33m:\u001b[0m\u001b[1;33m\u001b[0m\u001b[1;33m\u001b[0m\u001b[0m\n\u001b[1;32m---> 65\u001b[1;33m             \u001b[0mself\u001b[0m\u001b[1;33m.\u001b[0m\u001b[0mdownload\u001b[0m\u001b[1;33m(\u001b[0m\u001b[1;33m)\u001b[0m\u001b[1;33m\u001b[0m\u001b[1;33m\u001b[0m\u001b[0m\n\u001b[0m\u001b[0;32m     66\u001b[0m \u001b[1;33m\u001b[0m\u001b[0m\n\u001b[0;32m     67\u001b[0m         \u001b[1;32mif\u001b[0m \u001b[1;32mnot\u001b[0m \u001b[0mself\u001b[0m\u001b[1;33m.\u001b[0m\u001b[0m_check_integrity\u001b[0m\u001b[1;33m(\u001b[0m\u001b[1;33m)\u001b[0m\u001b[1;33m:\u001b[0m\u001b[1;33m\u001b[0m\u001b[1;33m\u001b[0m\u001b[0m\n",
      "\u001b[1;32mC:\\ProgramData\\Anaconda3\\Lib\\site-packages\\torchvision\\datasets\\cifar.py\u001b[0m in \u001b[0;36mdownload\u001b[1;34m(self)\u001b[0m\n\u001b[0;32m    141\u001b[0m             \u001b[0mprint\u001b[0m\u001b[1;33m(\u001b[0m\u001b[1;34m'Files already downloaded and verified'\u001b[0m\u001b[1;33m)\u001b[0m\u001b[1;33m\u001b[0m\u001b[1;33m\u001b[0m\u001b[0m\n\u001b[0;32m    142\u001b[0m             \u001b[1;32mreturn\u001b[0m\u001b[1;33m\u001b[0m\u001b[1;33m\u001b[0m\u001b[0m\n\u001b[1;32m--> 143\u001b[1;33m         \u001b[0mdownload_and_extract_archive\u001b[0m\u001b[1;33m(\u001b[0m\u001b[0mself\u001b[0m\u001b[1;33m.\u001b[0m\u001b[0murl\u001b[0m\u001b[1;33m,\u001b[0m \u001b[0mself\u001b[0m\u001b[1;33m.\u001b[0m\u001b[0mroot\u001b[0m\u001b[1;33m,\u001b[0m \u001b[0mfilename\u001b[0m\u001b[1;33m=\u001b[0m\u001b[0mself\u001b[0m\u001b[1;33m.\u001b[0m\u001b[0mfilename\u001b[0m\u001b[1;33m,\u001b[0m \u001b[0mmd5\u001b[0m\u001b[1;33m=\u001b[0m\u001b[0mself\u001b[0m\u001b[1;33m.\u001b[0m\u001b[0mtgz_md5\u001b[0m\u001b[1;33m)\u001b[0m\u001b[1;33m\u001b[0m\u001b[1;33m\u001b[0m\u001b[0m\n\u001b[0m\u001b[0;32m    144\u001b[0m \u001b[1;33m\u001b[0m\u001b[0m\n\u001b[0;32m    145\u001b[0m     \u001b[1;32mdef\u001b[0m \u001b[0mextra_repr\u001b[0m\u001b[1;33m(\u001b[0m\u001b[0mself\u001b[0m\u001b[1;33m)\u001b[0m \u001b[1;33m->\u001b[0m \u001b[0mstr\u001b[0m\u001b[1;33m:\u001b[0m\u001b[1;33m\u001b[0m\u001b[1;33m\u001b[0m\u001b[0m\n",
      "\u001b[1;32mC:\\ProgramData\\Anaconda3\\Lib\\site-packages\\torchvision\\datasets\\utils.py\u001b[0m in \u001b[0;36mdownload_and_extract_archive\u001b[1;34m(url, download_root, extract_root, filename, md5, remove_finished)\u001b[0m\n\u001b[0;32m    312\u001b[0m         \u001b[0mfilename\u001b[0m \u001b[1;33m=\u001b[0m \u001b[0mos\u001b[0m\u001b[1;33m.\u001b[0m\u001b[0mpath\u001b[0m\u001b[1;33m.\u001b[0m\u001b[0mbasename\u001b[0m\u001b[1;33m(\u001b[0m\u001b[0murl\u001b[0m\u001b[1;33m)\u001b[0m\u001b[1;33m\u001b[0m\u001b[1;33m\u001b[0m\u001b[0m\n\u001b[0;32m    313\u001b[0m \u001b[1;33m\u001b[0m\u001b[0m\n\u001b[1;32m--> 314\u001b[1;33m     \u001b[0mdownload_url\u001b[0m\u001b[1;33m(\u001b[0m\u001b[0murl\u001b[0m\u001b[1;33m,\u001b[0m \u001b[0mdownload_root\u001b[0m\u001b[1;33m,\u001b[0m \u001b[0mfilename\u001b[0m\u001b[1;33m,\u001b[0m \u001b[0mmd5\u001b[0m\u001b[1;33m)\u001b[0m\u001b[1;33m\u001b[0m\u001b[1;33m\u001b[0m\u001b[0m\n\u001b[0m\u001b[0;32m    315\u001b[0m \u001b[1;33m\u001b[0m\u001b[0m\n\u001b[0;32m    316\u001b[0m     \u001b[0marchive\u001b[0m \u001b[1;33m=\u001b[0m \u001b[0mos\u001b[0m\u001b[1;33m.\u001b[0m\u001b[0mpath\u001b[0m\u001b[1;33m.\u001b[0m\u001b[0mjoin\u001b[0m\u001b[1;33m(\u001b[0m\u001b[0mdownload_root\u001b[0m\u001b[1;33m,\u001b[0m \u001b[0mfilename\u001b[0m\u001b[1;33m)\u001b[0m\u001b[1;33m\u001b[0m\u001b[1;33m\u001b[0m\u001b[0m\n",
      "\u001b[1;32mC:\\ProgramData\\Anaconda3\\Lib\\site-packages\\torchvision\\datasets\\utils.py\u001b[0m in \u001b[0;36mdownload_url\u001b[1;34m(url, root, filename, md5, max_redirect_hops)\u001b[0m\n\u001b[0;32m    120\u001b[0m \u001b[1;33m\u001b[0m\u001b[0m\n\u001b[0;32m    121\u001b[0m     \u001b[1;31m# expand redirect chain if needed\u001b[0m\u001b[1;33m\u001b[0m\u001b[1;33m\u001b[0m\u001b[1;33m\u001b[0m\u001b[0m\n\u001b[1;32m--> 122\u001b[1;33m     \u001b[0murl\u001b[0m \u001b[1;33m=\u001b[0m \u001b[0m_get_redirect_url\u001b[0m\u001b[1;33m(\u001b[0m\u001b[0murl\u001b[0m\u001b[1;33m,\u001b[0m \u001b[0mmax_hops\u001b[0m\u001b[1;33m=\u001b[0m\u001b[0mmax_redirect_hops\u001b[0m\u001b[1;33m)\u001b[0m\u001b[1;33m\u001b[0m\u001b[1;33m\u001b[0m\u001b[0m\n\u001b[0m\u001b[0;32m    123\u001b[0m \u001b[1;33m\u001b[0m\u001b[0m\n\u001b[0;32m    124\u001b[0m     \u001b[1;31m# check if file is located on Google Drive\u001b[0m\u001b[1;33m\u001b[0m\u001b[1;33m\u001b[0m\u001b[1;33m\u001b[0m\u001b[0m\n",
      "\u001b[1;32mC:\\ProgramData\\Anaconda3\\Lib\\site-packages\\torchvision\\datasets\\utils.py\u001b[0m in \u001b[0;36m_get_redirect_url\u001b[1;34m(url, max_hops)\u001b[0m\n\u001b[0;32m     72\u001b[0m \u001b[1;33m\u001b[0m\u001b[0m\n\u001b[0;32m     73\u001b[0m     \u001b[1;32mfor\u001b[0m \u001b[0mhop\u001b[0m \u001b[1;32min\u001b[0m \u001b[0mrange\u001b[0m\u001b[1;33m(\u001b[0m\u001b[0mmax_hops\u001b[0m \u001b[1;33m+\u001b[0m \u001b[1;36m1\u001b[0m\u001b[1;33m)\u001b[0m\u001b[1;33m:\u001b[0m\u001b[1;33m\u001b[0m\u001b[1;33m\u001b[0m\u001b[0m\n\u001b[1;32m---> 74\u001b[1;33m         \u001b[0mresponse\u001b[0m \u001b[1;33m=\u001b[0m \u001b[0mrequests\u001b[0m\u001b[1;33m.\u001b[0m\u001b[0mget\u001b[0m\u001b[1;33m(\u001b[0m\u001b[0murl\u001b[0m\u001b[1;33m)\u001b[0m\u001b[1;33m\u001b[0m\u001b[1;33m\u001b[0m\u001b[0m\n\u001b[0m\u001b[0;32m     75\u001b[0m \u001b[1;33m\u001b[0m\u001b[0m\n\u001b[0;32m     76\u001b[0m         \u001b[1;32mif\u001b[0m \u001b[0mresponse\u001b[0m\u001b[1;33m.\u001b[0m\u001b[0murl\u001b[0m \u001b[1;33m==\u001b[0m \u001b[0murl\u001b[0m \u001b[1;32mor\u001b[0m \u001b[0mresponse\u001b[0m\u001b[1;33m.\u001b[0m\u001b[0murl\u001b[0m \u001b[1;32mis\u001b[0m \u001b[1;32mNone\u001b[0m\u001b[1;33m:\u001b[0m\u001b[1;33m\u001b[0m\u001b[1;33m\u001b[0m\u001b[0m\n",
      "\u001b[1;32mC:\\ProgramData\\Anaconda3\\Lib\\site-packages\\requests\\api.py\u001b[0m in \u001b[0;36mget\u001b[1;34m(url, params, **kwargs)\u001b[0m\n\u001b[0;32m     74\u001b[0m \u001b[1;33m\u001b[0m\u001b[0m\n\u001b[0;32m     75\u001b[0m     \u001b[0mkwargs\u001b[0m\u001b[1;33m.\u001b[0m\u001b[0msetdefault\u001b[0m\u001b[1;33m(\u001b[0m\u001b[1;34m'allow_redirects'\u001b[0m\u001b[1;33m,\u001b[0m \u001b[1;32mTrue\u001b[0m\u001b[1;33m)\u001b[0m\u001b[1;33m\u001b[0m\u001b[1;33m\u001b[0m\u001b[0m\n\u001b[1;32m---> 76\u001b[1;33m     \u001b[1;32mreturn\u001b[0m \u001b[0mrequest\u001b[0m\u001b[1;33m(\u001b[0m\u001b[1;34m'get'\u001b[0m\u001b[1;33m,\u001b[0m \u001b[0murl\u001b[0m\u001b[1;33m,\u001b[0m \u001b[0mparams\u001b[0m\u001b[1;33m=\u001b[0m\u001b[0mparams\u001b[0m\u001b[1;33m,\u001b[0m \u001b[1;33m**\u001b[0m\u001b[0mkwargs\u001b[0m\u001b[1;33m)\u001b[0m\u001b[1;33m\u001b[0m\u001b[1;33m\u001b[0m\u001b[0m\n\u001b[0m\u001b[0;32m     77\u001b[0m \u001b[1;33m\u001b[0m\u001b[0m\n\u001b[0;32m     78\u001b[0m \u001b[1;33m\u001b[0m\u001b[0m\n",
      "\u001b[1;32mC:\\ProgramData\\Anaconda3\\Lib\\site-packages\\requests\\api.py\u001b[0m in \u001b[0;36mrequest\u001b[1;34m(method, url, **kwargs)\u001b[0m\n\u001b[0;32m     59\u001b[0m     \u001b[1;31m# cases, and look like a memory leak in others.\u001b[0m\u001b[1;33m\u001b[0m\u001b[1;33m\u001b[0m\u001b[1;33m\u001b[0m\u001b[0m\n\u001b[0;32m     60\u001b[0m     \u001b[1;32mwith\u001b[0m \u001b[0msessions\u001b[0m\u001b[1;33m.\u001b[0m\u001b[0mSession\u001b[0m\u001b[1;33m(\u001b[0m\u001b[1;33m)\u001b[0m \u001b[1;32mas\u001b[0m \u001b[0msession\u001b[0m\u001b[1;33m:\u001b[0m\u001b[1;33m\u001b[0m\u001b[1;33m\u001b[0m\u001b[0m\n\u001b[1;32m---> 61\u001b[1;33m         \u001b[1;32mreturn\u001b[0m \u001b[0msession\u001b[0m\u001b[1;33m.\u001b[0m\u001b[0mrequest\u001b[0m\u001b[1;33m(\u001b[0m\u001b[0mmethod\u001b[0m\u001b[1;33m=\u001b[0m\u001b[0mmethod\u001b[0m\u001b[1;33m,\u001b[0m \u001b[0murl\u001b[0m\u001b[1;33m=\u001b[0m\u001b[0murl\u001b[0m\u001b[1;33m,\u001b[0m \u001b[1;33m**\u001b[0m\u001b[0mkwargs\u001b[0m\u001b[1;33m)\u001b[0m\u001b[1;33m\u001b[0m\u001b[1;33m\u001b[0m\u001b[0m\n\u001b[0m\u001b[0;32m     62\u001b[0m \u001b[1;33m\u001b[0m\u001b[0m\n\u001b[0;32m     63\u001b[0m \u001b[1;33m\u001b[0m\u001b[0m\n",
      "\u001b[1;32mC:\\ProgramData\\Anaconda3\\Lib\\site-packages\\requests\\sessions.py\u001b[0m in \u001b[0;36mrequest\u001b[1;34m(self, method, url, params, data, headers, cookies, files, auth, timeout, allow_redirects, proxies, hooks, stream, verify, cert, json)\u001b[0m\n\u001b[0;32m    540\u001b[0m         }\n\u001b[0;32m    541\u001b[0m         \u001b[0msend_kwargs\u001b[0m\u001b[1;33m.\u001b[0m\u001b[0mupdate\u001b[0m\u001b[1;33m(\u001b[0m\u001b[0msettings\u001b[0m\u001b[1;33m)\u001b[0m\u001b[1;33m\u001b[0m\u001b[1;33m\u001b[0m\u001b[0m\n\u001b[1;32m--> 542\u001b[1;33m         \u001b[0mresp\u001b[0m \u001b[1;33m=\u001b[0m \u001b[0mself\u001b[0m\u001b[1;33m.\u001b[0m\u001b[0msend\u001b[0m\u001b[1;33m(\u001b[0m\u001b[0mprep\u001b[0m\u001b[1;33m,\u001b[0m \u001b[1;33m**\u001b[0m\u001b[0msend_kwargs\u001b[0m\u001b[1;33m)\u001b[0m\u001b[1;33m\u001b[0m\u001b[1;33m\u001b[0m\u001b[0m\n\u001b[0m\u001b[0;32m    543\u001b[0m \u001b[1;33m\u001b[0m\u001b[0m\n\u001b[0;32m    544\u001b[0m         \u001b[1;32mreturn\u001b[0m \u001b[0mresp\u001b[0m\u001b[1;33m\u001b[0m\u001b[1;33m\u001b[0m\u001b[0m\n",
      "\u001b[1;32mC:\\ProgramData\\Anaconda3\\Lib\\site-packages\\requests\\sessions.py\u001b[0m in \u001b[0;36msend\u001b[1;34m(self, request, **kwargs)\u001b[0m\n\u001b[0;32m    695\u001b[0m \u001b[1;33m\u001b[0m\u001b[0m\n\u001b[0;32m    696\u001b[0m         \u001b[1;32mif\u001b[0m \u001b[1;32mnot\u001b[0m \u001b[0mstream\u001b[0m\u001b[1;33m:\u001b[0m\u001b[1;33m\u001b[0m\u001b[1;33m\u001b[0m\u001b[0m\n\u001b[1;32m--> 697\u001b[1;33m             \u001b[0mr\u001b[0m\u001b[1;33m.\u001b[0m\u001b[0mcontent\u001b[0m\u001b[1;33m\u001b[0m\u001b[1;33m\u001b[0m\u001b[0m\n\u001b[0m\u001b[0;32m    698\u001b[0m \u001b[1;33m\u001b[0m\u001b[0m\n\u001b[0;32m    699\u001b[0m         \u001b[1;32mreturn\u001b[0m \u001b[0mr\u001b[0m\u001b[1;33m\u001b[0m\u001b[1;33m\u001b[0m\u001b[0m\n",
      "\u001b[1;32mC:\\ProgramData\\Anaconda3\\Lib\\site-packages\\requests\\models.py\u001b[0m in \u001b[0;36mcontent\u001b[1;34m(self)\u001b[0m\n\u001b[0;32m    829\u001b[0m                 \u001b[0mself\u001b[0m\u001b[1;33m.\u001b[0m\u001b[0m_content\u001b[0m \u001b[1;33m=\u001b[0m \u001b[1;32mNone\u001b[0m\u001b[1;33m\u001b[0m\u001b[1;33m\u001b[0m\u001b[0m\n\u001b[0;32m    830\u001b[0m             \u001b[1;32melse\u001b[0m\u001b[1;33m:\u001b[0m\u001b[1;33m\u001b[0m\u001b[1;33m\u001b[0m\u001b[0m\n\u001b[1;32m--> 831\u001b[1;33m                 \u001b[0mself\u001b[0m\u001b[1;33m.\u001b[0m\u001b[0m_content\u001b[0m \u001b[1;33m=\u001b[0m \u001b[1;34mb''\u001b[0m\u001b[1;33m.\u001b[0m\u001b[0mjoin\u001b[0m\u001b[1;33m(\u001b[0m\u001b[0mself\u001b[0m\u001b[1;33m.\u001b[0m\u001b[0miter_content\u001b[0m\u001b[1;33m(\u001b[0m\u001b[0mCONTENT_CHUNK_SIZE\u001b[0m\u001b[1;33m)\u001b[0m\u001b[1;33m)\u001b[0m \u001b[1;32mor\u001b[0m \u001b[1;34mb''\u001b[0m\u001b[1;33m\u001b[0m\u001b[1;33m\u001b[0m\u001b[0m\n\u001b[0m\u001b[0;32m    832\u001b[0m \u001b[1;33m\u001b[0m\u001b[0m\n\u001b[0;32m    833\u001b[0m         \u001b[0mself\u001b[0m\u001b[1;33m.\u001b[0m\u001b[0m_content_consumed\u001b[0m \u001b[1;33m=\u001b[0m \u001b[1;32mTrue\u001b[0m\u001b[1;33m\u001b[0m\u001b[1;33m\u001b[0m\u001b[0m\n",
      "\u001b[1;32mC:\\ProgramData\\Anaconda3\\Lib\\site-packages\\requests\\models.py\u001b[0m in \u001b[0;36mgenerate\u001b[1;34m()\u001b[0m\n\u001b[0;32m    751\u001b[0m             \u001b[1;32mif\u001b[0m \u001b[0mhasattr\u001b[0m\u001b[1;33m(\u001b[0m\u001b[0mself\u001b[0m\u001b[1;33m.\u001b[0m\u001b[0mraw\u001b[0m\u001b[1;33m,\u001b[0m \u001b[1;34m'stream'\u001b[0m\u001b[1;33m)\u001b[0m\u001b[1;33m:\u001b[0m\u001b[1;33m\u001b[0m\u001b[1;33m\u001b[0m\u001b[0m\n\u001b[0;32m    752\u001b[0m                 \u001b[1;32mtry\u001b[0m\u001b[1;33m:\u001b[0m\u001b[1;33m\u001b[0m\u001b[1;33m\u001b[0m\u001b[0m\n\u001b[1;32m--> 753\u001b[1;33m                     \u001b[1;32mfor\u001b[0m \u001b[0mchunk\u001b[0m \u001b[1;32min\u001b[0m \u001b[0mself\u001b[0m\u001b[1;33m.\u001b[0m\u001b[0mraw\u001b[0m\u001b[1;33m.\u001b[0m\u001b[0mstream\u001b[0m\u001b[1;33m(\u001b[0m\u001b[0mchunk_size\u001b[0m\u001b[1;33m,\u001b[0m \u001b[0mdecode_content\u001b[0m\u001b[1;33m=\u001b[0m\u001b[1;32mTrue\u001b[0m\u001b[1;33m)\u001b[0m\u001b[1;33m:\u001b[0m\u001b[1;33m\u001b[0m\u001b[1;33m\u001b[0m\u001b[0m\n\u001b[0m\u001b[0;32m    754\u001b[0m                         \u001b[1;32myield\u001b[0m \u001b[0mchunk\u001b[0m\u001b[1;33m\u001b[0m\u001b[1;33m\u001b[0m\u001b[0m\n\u001b[0;32m    755\u001b[0m                 \u001b[1;32mexcept\u001b[0m \u001b[0mProtocolError\u001b[0m \u001b[1;32mas\u001b[0m \u001b[0me\u001b[0m\u001b[1;33m:\u001b[0m\u001b[1;33m\u001b[0m\u001b[1;33m\u001b[0m\u001b[0m\n",
      "\u001b[1;32mC:\\ProgramData\\Anaconda3\\Lib\\site-packages\\urllib3\\response.py\u001b[0m in \u001b[0;36mstream\u001b[1;34m(self, amt, decode_content)\u001b[0m\n\u001b[0;32m    574\u001b[0m         \u001b[1;32melse\u001b[0m\u001b[1;33m:\u001b[0m\u001b[1;33m\u001b[0m\u001b[1;33m\u001b[0m\u001b[0m\n\u001b[0;32m    575\u001b[0m             \u001b[1;32mwhile\u001b[0m \u001b[1;32mnot\u001b[0m \u001b[0mis_fp_closed\u001b[0m\u001b[1;33m(\u001b[0m\u001b[0mself\u001b[0m\u001b[1;33m.\u001b[0m\u001b[0m_fp\u001b[0m\u001b[1;33m)\u001b[0m\u001b[1;33m:\u001b[0m\u001b[1;33m\u001b[0m\u001b[1;33m\u001b[0m\u001b[0m\n\u001b[1;32m--> 576\u001b[1;33m                 \u001b[0mdata\u001b[0m \u001b[1;33m=\u001b[0m \u001b[0mself\u001b[0m\u001b[1;33m.\u001b[0m\u001b[0mread\u001b[0m\u001b[1;33m(\u001b[0m\u001b[0mamt\u001b[0m\u001b[1;33m=\u001b[0m\u001b[0mamt\u001b[0m\u001b[1;33m,\u001b[0m \u001b[0mdecode_content\u001b[0m\u001b[1;33m=\u001b[0m\u001b[0mdecode_content\u001b[0m\u001b[1;33m)\u001b[0m\u001b[1;33m\u001b[0m\u001b[1;33m\u001b[0m\u001b[0m\n\u001b[0m\u001b[0;32m    577\u001b[0m \u001b[1;33m\u001b[0m\u001b[0m\n\u001b[0;32m    578\u001b[0m                 \u001b[1;32mif\u001b[0m \u001b[0mdata\u001b[0m\u001b[1;33m:\u001b[0m\u001b[1;33m\u001b[0m\u001b[1;33m\u001b[0m\u001b[0m\n",
      "\u001b[1;32mC:\\ProgramData\\Anaconda3\\Lib\\site-packages\\urllib3\\response.py\u001b[0m in \u001b[0;36mread\u001b[1;34m(self, amt, decode_content, cache_content)\u001b[0m\n\u001b[0;32m    517\u001b[0m             \u001b[1;32melse\u001b[0m\u001b[1;33m:\u001b[0m\u001b[1;33m\u001b[0m\u001b[1;33m\u001b[0m\u001b[0m\n\u001b[0;32m    518\u001b[0m                 \u001b[0mcache_content\u001b[0m \u001b[1;33m=\u001b[0m \u001b[1;32mFalse\u001b[0m\u001b[1;33m\u001b[0m\u001b[1;33m\u001b[0m\u001b[0m\n\u001b[1;32m--> 519\u001b[1;33m                 \u001b[0mdata\u001b[0m \u001b[1;33m=\u001b[0m \u001b[0mself\u001b[0m\u001b[1;33m.\u001b[0m\u001b[0m_fp\u001b[0m\u001b[1;33m.\u001b[0m\u001b[0mread\u001b[0m\u001b[1;33m(\u001b[0m\u001b[0mamt\u001b[0m\u001b[1;33m)\u001b[0m \u001b[1;32mif\u001b[0m \u001b[1;32mnot\u001b[0m \u001b[0mfp_closed\u001b[0m \u001b[1;32melse\u001b[0m \u001b[1;34mb\"\"\u001b[0m\u001b[1;33m\u001b[0m\u001b[1;33m\u001b[0m\u001b[0m\n\u001b[0m\u001b[0;32m    520\u001b[0m                 if (\n\u001b[0;32m    521\u001b[0m                     \u001b[0mamt\u001b[0m \u001b[1;33m!=\u001b[0m \u001b[1;36m0\u001b[0m \u001b[1;32mand\u001b[0m \u001b[1;32mnot\u001b[0m \u001b[0mdata\u001b[0m\u001b[1;33m\u001b[0m\u001b[1;33m\u001b[0m\u001b[0m\n",
      "\u001b[1;32mC:\\ProgramData\\Anaconda3\\lib\\http\\client.py\u001b[0m in \u001b[0;36mread\u001b[1;34m(self, amt)\u001b[0m\n\u001b[0;32m    455\u001b[0m             \u001b[1;31m# Amount is given, implement using readinto\u001b[0m\u001b[1;33m\u001b[0m\u001b[1;33m\u001b[0m\u001b[1;33m\u001b[0m\u001b[0m\n\u001b[0;32m    456\u001b[0m             \u001b[0mb\u001b[0m \u001b[1;33m=\u001b[0m \u001b[0mbytearray\u001b[0m\u001b[1;33m(\u001b[0m\u001b[0mamt\u001b[0m\u001b[1;33m)\u001b[0m\u001b[1;33m\u001b[0m\u001b[1;33m\u001b[0m\u001b[0m\n\u001b[1;32m--> 457\u001b[1;33m             \u001b[0mn\u001b[0m \u001b[1;33m=\u001b[0m \u001b[0mself\u001b[0m\u001b[1;33m.\u001b[0m\u001b[0mreadinto\u001b[0m\u001b[1;33m(\u001b[0m\u001b[0mb\u001b[0m\u001b[1;33m)\u001b[0m\u001b[1;33m\u001b[0m\u001b[1;33m\u001b[0m\u001b[0m\n\u001b[0m\u001b[0;32m    458\u001b[0m             \u001b[1;32mreturn\u001b[0m \u001b[0mmemoryview\u001b[0m\u001b[1;33m(\u001b[0m\u001b[0mb\u001b[0m\u001b[1;33m)\u001b[0m\u001b[1;33m[\u001b[0m\u001b[1;33m:\u001b[0m\u001b[0mn\u001b[0m\u001b[1;33m]\u001b[0m\u001b[1;33m.\u001b[0m\u001b[0mtobytes\u001b[0m\u001b[1;33m(\u001b[0m\u001b[1;33m)\u001b[0m\u001b[1;33m\u001b[0m\u001b[1;33m\u001b[0m\u001b[0m\n\u001b[0;32m    459\u001b[0m         \u001b[1;32melse\u001b[0m\u001b[1;33m:\u001b[0m\u001b[1;33m\u001b[0m\u001b[1;33m\u001b[0m\u001b[0m\n",
      "\u001b[1;32mC:\\ProgramData\\Anaconda3\\lib\\http\\client.py\u001b[0m in \u001b[0;36mreadinto\u001b[1;34m(self, b)\u001b[0m\n\u001b[0;32m    499\u001b[0m         \u001b[1;31m# connection, and the user is reading more bytes than will be provided\u001b[0m\u001b[1;33m\u001b[0m\u001b[1;33m\u001b[0m\u001b[1;33m\u001b[0m\u001b[0m\n\u001b[0;32m    500\u001b[0m         \u001b[1;31m# (for example, reading in 1k chunks)\u001b[0m\u001b[1;33m\u001b[0m\u001b[1;33m\u001b[0m\u001b[1;33m\u001b[0m\u001b[0m\n\u001b[1;32m--> 501\u001b[1;33m         \u001b[0mn\u001b[0m \u001b[1;33m=\u001b[0m \u001b[0mself\u001b[0m\u001b[1;33m.\u001b[0m\u001b[0mfp\u001b[0m\u001b[1;33m.\u001b[0m\u001b[0mreadinto\u001b[0m\u001b[1;33m(\u001b[0m\u001b[0mb\u001b[0m\u001b[1;33m)\u001b[0m\u001b[1;33m\u001b[0m\u001b[1;33m\u001b[0m\u001b[0m\n\u001b[0m\u001b[0;32m    502\u001b[0m         \u001b[1;32mif\u001b[0m \u001b[1;32mnot\u001b[0m \u001b[0mn\u001b[0m \u001b[1;32mand\u001b[0m \u001b[0mb\u001b[0m\u001b[1;33m:\u001b[0m\u001b[1;33m\u001b[0m\u001b[1;33m\u001b[0m\u001b[0m\n\u001b[0;32m    503\u001b[0m             \u001b[1;31m# Ideally, we would raise IncompleteRead if the content-length\u001b[0m\u001b[1;33m\u001b[0m\u001b[1;33m\u001b[0m\u001b[1;33m\u001b[0m\u001b[0m\n",
      "\u001b[1;32mC:\\ProgramData\\Anaconda3\\lib\\socket.py\u001b[0m in \u001b[0;36mreadinto\u001b[1;34m(self, b)\u001b[0m\n\u001b[0;32m    587\u001b[0m         \u001b[1;32mwhile\u001b[0m \u001b[1;32mTrue\u001b[0m\u001b[1;33m:\u001b[0m\u001b[1;33m\u001b[0m\u001b[1;33m\u001b[0m\u001b[0m\n\u001b[0;32m    588\u001b[0m             \u001b[1;32mtry\u001b[0m\u001b[1;33m:\u001b[0m\u001b[1;33m\u001b[0m\u001b[1;33m\u001b[0m\u001b[0m\n\u001b[1;32m--> 589\u001b[1;33m                 \u001b[1;32mreturn\u001b[0m \u001b[0mself\u001b[0m\u001b[1;33m.\u001b[0m\u001b[0m_sock\u001b[0m\u001b[1;33m.\u001b[0m\u001b[0mrecv_into\u001b[0m\u001b[1;33m(\u001b[0m\u001b[0mb\u001b[0m\u001b[1;33m)\u001b[0m\u001b[1;33m\u001b[0m\u001b[1;33m\u001b[0m\u001b[0m\n\u001b[0m\u001b[0;32m    590\u001b[0m             \u001b[1;32mexcept\u001b[0m \u001b[0mtimeout\u001b[0m\u001b[1;33m:\u001b[0m\u001b[1;33m\u001b[0m\u001b[1;33m\u001b[0m\u001b[0m\n\u001b[0;32m    591\u001b[0m                 \u001b[0mself\u001b[0m\u001b[1;33m.\u001b[0m\u001b[0m_timeout_occurred\u001b[0m \u001b[1;33m=\u001b[0m \u001b[1;32mTrue\u001b[0m\u001b[1;33m\u001b[0m\u001b[1;33m\u001b[0m\u001b[0m\n",
      "\u001b[1;32mC:\\ProgramData\\Anaconda3\\lib\\ssl.py\u001b[0m in \u001b[0;36mrecv_into\u001b[1;34m(self, buffer, nbytes, flags)\u001b[0m\n\u001b[0;32m   1069\u001b[0m                   \u001b[1;34m\"non-zero flags not allowed in calls to recv_into() on %s\"\u001b[0m \u001b[1;33m%\u001b[0m\u001b[1;33m\u001b[0m\u001b[1;33m\u001b[0m\u001b[0m\n\u001b[0;32m   1070\u001b[0m                   self.__class__)\n\u001b[1;32m-> 1071\u001b[1;33m             \u001b[1;32mreturn\u001b[0m \u001b[0mself\u001b[0m\u001b[1;33m.\u001b[0m\u001b[0mread\u001b[0m\u001b[1;33m(\u001b[0m\u001b[0mnbytes\u001b[0m\u001b[1;33m,\u001b[0m \u001b[0mbuffer\u001b[0m\u001b[1;33m)\u001b[0m\u001b[1;33m\u001b[0m\u001b[1;33m\u001b[0m\u001b[0m\n\u001b[0m\u001b[0;32m   1072\u001b[0m         \u001b[1;32melse\u001b[0m\u001b[1;33m:\u001b[0m\u001b[1;33m\u001b[0m\u001b[1;33m\u001b[0m\u001b[0m\n\u001b[0;32m   1073\u001b[0m             \u001b[1;32mreturn\u001b[0m \u001b[0msuper\u001b[0m\u001b[1;33m(\u001b[0m\u001b[1;33m)\u001b[0m\u001b[1;33m.\u001b[0m\u001b[0mrecv_into\u001b[0m\u001b[1;33m(\u001b[0m\u001b[0mbuffer\u001b[0m\u001b[1;33m,\u001b[0m \u001b[0mnbytes\u001b[0m\u001b[1;33m,\u001b[0m \u001b[0mflags\u001b[0m\u001b[1;33m)\u001b[0m\u001b[1;33m\u001b[0m\u001b[1;33m\u001b[0m\u001b[0m\n",
      "\u001b[1;32mC:\\ProgramData\\Anaconda3\\lib\\ssl.py\u001b[0m in \u001b[0;36mread\u001b[1;34m(self, len, buffer)\u001b[0m\n\u001b[0;32m    927\u001b[0m         \u001b[1;32mtry\u001b[0m\u001b[1;33m:\u001b[0m\u001b[1;33m\u001b[0m\u001b[1;33m\u001b[0m\u001b[0m\n\u001b[0;32m    928\u001b[0m             \u001b[1;32mif\u001b[0m \u001b[0mbuffer\u001b[0m \u001b[1;32mis\u001b[0m \u001b[1;32mnot\u001b[0m \u001b[1;32mNone\u001b[0m\u001b[1;33m:\u001b[0m\u001b[1;33m\u001b[0m\u001b[1;33m\u001b[0m\u001b[0m\n\u001b[1;32m--> 929\u001b[1;33m                 \u001b[1;32mreturn\u001b[0m \u001b[0mself\u001b[0m\u001b[1;33m.\u001b[0m\u001b[0m_sslobj\u001b[0m\u001b[1;33m.\u001b[0m\u001b[0mread\u001b[0m\u001b[1;33m(\u001b[0m\u001b[0mlen\u001b[0m\u001b[1;33m,\u001b[0m \u001b[0mbuffer\u001b[0m\u001b[1;33m)\u001b[0m\u001b[1;33m\u001b[0m\u001b[1;33m\u001b[0m\u001b[0m\n\u001b[0m\u001b[0;32m    930\u001b[0m             \u001b[1;32melse\u001b[0m\u001b[1;33m:\u001b[0m\u001b[1;33m\u001b[0m\u001b[1;33m\u001b[0m\u001b[0m\n\u001b[0;32m    931\u001b[0m                 \u001b[1;32mreturn\u001b[0m \u001b[0mself\u001b[0m\u001b[1;33m.\u001b[0m\u001b[0m_sslobj\u001b[0m\u001b[1;33m.\u001b[0m\u001b[0mread\u001b[0m\u001b[1;33m(\u001b[0m\u001b[0mlen\u001b[0m\u001b[1;33m)\u001b[0m\u001b[1;33m\u001b[0m\u001b[1;33m\u001b[0m\u001b[0m\n",
      "\u001b[1;31mKeyboardInterrupt\u001b[0m: "
     ]
    }
   ],
   "source": [
    "## Download CIFAR-10 dataset \n",
    "\n",
    "import torch\n",
    "import torchvision\n",
    "import torchvision.transforms as transforms\n",
    "\n",
    "transform = transforms.Compose(\n",
    "    [transforms.ToTensor(),\n",
    "     transforms.Normalize((0.5, 0.5, 0.5), (0.5, 0.5, 0.5))])\n",
    "\n",
    "trainset = torchvision.datasets.CIFAR10(root='./part_2_data', train=True,\n",
    "                                        download=True, transform=transform)\n",
    "trainloader = torch.utils.data.DataLoader(trainset, batch_size=32,\n",
    "                                          shuffle=True, num_workers=2)\n",
    "\n",
    "testset = torchvision.datasets.CIFAR10(root='./part_2_data', train=False,\n",
    "                                       download=True, transform=transform)\n",
    "testloader = torch.utils.data.DataLoader(testset, batch_size=32,\n",
    "                                         shuffle=False, num_workers=2)\n",
    "\n",
    "classes = ('plane', 'car', 'bird', 'cat',\n",
    "           'deer', 'dog', 'frog', 'horse', 'ship', 'truck')"
   ]
  },
  {
   "cell_type": "code",
   "execution_count": null,
   "metadata": {
    "collapsed": true,
    "id": "c-t27AQYtPHc"
   },
   "outputs": [],
   "source": [
    "# TODO - Complete Part2NeuralNetwork. Include class into your PDF submission!\n",
    "\n",
    "import torch.nn as nn\n",
    "import torch.nn.functional as F\n",
    "import torch.optim as optim\n",
    "\n",
    "device = torch.device('cuda:0' if torch.cuda.is_available() else 'cpu')\n",
    "\n",
    "class Part2NeuralNetwork(nn.Module):\n",
    "    def __init__(self):\n",
    "        super(Part2NeuralNetwork, self).__init__()\n",
    "        ## TODO: Define your neural network layers here!\n",
    "        ## Importantly, any modules which initialize weights should be initialized\n",
    "        ## as member variables here. \n",
    "        ## Note: Keep track of the shape of your input tensors in the training\n",
    "        ## and test sets, because it affects how you define your layers!\n",
    "        ## You might find this resource helpful:\n",
    "        ## https://towardsdatascience.com/pytorch-layer-dimensions-what-sizes-should-they-be-and-why-4265a41e01fd\n",
    "        self.l1 = nn.Linear(32**2, 1000)\n",
    "        self.l2 = nn.Linear(1000, 1000)\n",
    "        self.l3 = nn.Linear(1000, 10)\n",
    "        self.act_l = nn.RELU()\n",
    "        \n",
    "    def forward(self, x):\n",
    "        ## TODO: This is where you should apply the layers defined in the __init__\n",
    "        ## method and the ReLU activation functions to the input x.\n",
    "        x = self.act_l(self.l1(x))\n",
    "        x = self.act_l(self.l2(x))\n",
    "        x = self.act_l(self.l3(x))\n",
    "        \n",
    "        return x\n",
    "\n",
    "# Display model architecture\n",
    "model = Part2NeuralNetwork()\n",
    "model.to(device)"
   ]
  },
  {
   "cell_type": "code",
   "execution_count": null,
   "metadata": {
    "id": "zfaC1lDuek_i"
   },
   "outputs": [],
   "source": [
    "# TODO - Complete NN training\n",
    "\n",
    "# Reinitialize to ensure we are training a new model\n",
    "model = Part2NeuralNetwork()\n",
    "model.to(device)\n",
    "\n",
    "loss_function = nn.CrossEntropyLoss()\n",
    "optimizer = optim.SGD(model.parameters(), lr=0.001, momentum=0.9)\n",
    "\n",
    "train_losses = []\n",
    "test_losses = []\n",
    "\n",
    "for epoch in range(10):\n",
    "    running_loss = 0.0\n",
    "    model.train(True)\n",
    "    for i, data in enumerate(trainloader, 0):\n",
    "        # Get inputs; data is a list of [inputs, labels]\n",
    "        xs, ys = data\n",
    "        xs = xs.to(device)\n",
    "        ys = ys.to(device)\n",
    "\n",
    "        ## TODO: optimize model parameters\n",
    "        optimizer.zero_grad()\n",
    "        y_hat = model(xs)\n",
    "        loss = loss_function(ys, y_hat)\n",
    "        \n",
    "        loss.backward()\n",
    "        optimizer.step()\n",
    "\n",
    "        running_loss += loss.item()\n",
    "    train_losses.append(running_loss / 50000)\n",
    "    print('[Epoch %d] average train loss: %.3f' % (epoch + 1, running_loss / 50000))\n",
    "    \n",
    "    model.train(False)\n",
    "    running_test_loss = 0.0\n",
    "    ## TODO: calculate test loss in similar fashion\n",
    "    for i, data in enumerate(testloader, 0):\n",
    "        # Get inputs; data is a list of [inputs, labels]\n",
    "        xs, ys = data\n",
    "        xs = xs.to(device)\n",
    "        ys = ys.to(device)\n",
    "\n",
    "        y_hat = model(xs)\n",
    "        loss = loss_function(ys, y_hat)\n",
    "        \n",
    "        running_test_loss += loss.item()\n",
    "    test_losses.append(running_test_loss / 10000)\n",
    "    print('[Epoch %d] average test loss: %.3f' % (epoch + 1, running_test_loss / 10000))\n",
    "\n",
    "print('Finished Training')"
   ]
  },
  {
   "cell_type": "code",
   "execution_count": null,
   "metadata": {
    "collapsed": true,
    "id": "6eM9cwr8Jrfc"
   },
   "outputs": [],
   "source": [
    "# Use this function to compute your model accuracy!\n",
    "# Note that the dataloader argument can take trainloader or testloader\n",
    "def compute_accuracy(model, dataloader):\n",
    "    correct = 0\n",
    "    total = 0\n",
    "    model.train(False)\n",
    "    with torch.no_grad():\n",
    "        for data in dataloader:\n",
    "            xs, ys = data\n",
    "            xs = xs.to(device)\n",
    "            ys = ys.to(device)\n",
    "            y_preds = model(xs)\n",
    "            _, predicted = torch.max(y_preds.data, 1)\n",
    "            total += ys.size(0)\n",
    "            correct += (predicted == ys).sum().item()\n",
    "    print('Model accuracy: %d %%' % (100 * correct / total))"
   ]
  },
  {
   "cell_type": "markdown",
   "metadata": {
    "id": "VHkX9Z6q27-4"
   },
   "source": [
    "<a name=\"Appendix\"></a>\n",
    "# Appendix: Computation Graphs"
   ]
  },
  {
   "cell_type": "markdown",
   "metadata": {
    "id": "aaUHTpkpUOHn"
   },
   "source": [
    "A *computation graph* is an abstract graphical representation of a mathematical expression involving variables. Each variable is represented as an edge, and each operation as a node; the graph is directed and acyclic. For instance, the expression $(x + y)^2 + x$ can be represented as:\n",
    "\n",
    "![Computation Graph](https://github.com/harvard-ml-courses/cs181-s21-homeworks/blob/main/hw3/T3_P3_computation_graph.jpg?raw=true)\n",
    "\n",
    "Expressions can be converted into graphs and vice versa. Computation graphs are useful representations in the context of neural networks, because\n",
    "1. They encode all the necessary information for the computation of gradients into discrete units through repeated application of the chain rule, and\n",
    "2. Graphs are easy to implement with code (conceptually, one can imagine storing pointers between nodes)\n",
    "\n",
    "The process in step #1 is known as *automatic differentiation*.\n",
    "\n",
    "If you would like to walk through a computation graph on a small neural network, we recommend [this resource](https://blog.paperspace.com/pytorch-101-understanding-graphs-and-automatic-differentiation/)."
   ]
  },
  {
   "cell_type": "markdown",
   "metadata": {
    "id": "ztTJRpX09z6J"
   },
   "source": [
    "# Appendix: Convolutional Neural Networks"
   ]
  },
  {
   "cell_type": "markdown",
   "metadata": {
    "id": "9fNNaZso91zx"
   },
   "source": [
    "A convolutional neural network (CNN) is a special type of neural network that has \"convolution layers\". CNNs are able to model spatial and temporal dependencies in ordered sequences of input data.\n",
    "\n",
    "The convolution layer of a CNN applies a filter (sometimes referred to as a \"kernel\") to an input to produce an output. \n",
    "\n",
    "Assume without loss of generality that we have two-dimensional input data $x : m \\times n$.  For example, $x$ may be the color of each pixel of a grayscale $m$ by $n$ image.\n",
    "\n",
    "During the forward pass, we slide (or \"convolve\") the filter across the input data.  In most CNNs, the filter is a function of \"regions\" of the data, where individual components of the input are grouped together.  For example, a convolutional filter applied to image data may take into account $3 x 3$ groups of pixels to model dependencies in between adjacent pixels:\n",
    "\n",
    "![CNN sliding window](https://courses.edx.org/assets/courseware/v1/7396a332c596cb606eae215d96301334/asset-v1:MITx+6.871Jx+2T2021+type@asset+block/cnn_sliding_window.gif)\n",
    "\n",
    "This GIF image shows a sliding convolutional 3 x 3 filter, being applied to 3 x 3 segments of a 4 x 4 dataset.\n",
    "\n",
    "source: https://towardsdatascience.com/intuitively-understanding-convolutions-for-deep-learning-1f6f42faee1\n",
    "\n",
    "Another example of a 1-dimensional convolution filter is illustrated by the below GIF:\n",
    "\n",
    "![Convolution operation for a simple (1 x 3) filter](https://studio.edx.org/assets/courseware/v1/20da14e015eac1863451dafe3d456e59/asset-v1:MITx+6.871Jx+2T2021+type@asset+block/cnn.gif)\n",
    "\n",
    "This animation is described below.\n",
    "\n",
    "In this example, the filter $[2, 3, 1]$ is applied as an inner product with the input vector $x = [x_1, x_2, ..., x_{10}]: 1 \\times 10$ which contains annotations of a patient EKG.  Notice here that the filter is applied to 3 successive time-steps of the input vector: the output $y_t$ at time $t$ is equal to $[2, 3, 1] \\cdot [x_t, x_{t + 1}, t_{t + 2}]$.  Therefore the output $y_t$ contains information not only about a single EKG annotation $x_t$, but also about nearby EKG annotations $x_{t + 1}$ and $x_{t + 2}$.\n",
    "\n",
    "We strongly recommend [reading this article](https://adventuresinmachinelearning.com/convolutional-neural-networks-tutorial-in-pytorch/) which walks through how to create a CNN using conv and pooling layers in PyTorch.\n",
    "\n",
    "If you are interested, you can also watch this [MIT lecture](https://www.youtube.com/watch?v=iaSUYvmCekI) on CNNs."
   ]
  }
 ],
 "metadata": {
  "accelerator": "GPU",
  "colab": {
   "collapsed_sections": [],
   "name": "pytorch_tutorial.ipynb",
   "provenance": [],
   "toc_visible": true
  },
  "kernelspec": {
   "display_name": "Python 3",
   "language": "python",
   "name": "python3"
  },
  "language_info": {
   "codemirror_mode": {
    "name": "ipython",
    "version": 3
   },
   "file_extension": ".py",
   "mimetype": "text/x-python",
   "name": "python",
   "nbconvert_exporter": "python",
   "pygments_lexer": "ipython3",
   "version": "3.7.4"
  }
 },
 "nbformat": 4,
 "nbformat_minor": 1
}
